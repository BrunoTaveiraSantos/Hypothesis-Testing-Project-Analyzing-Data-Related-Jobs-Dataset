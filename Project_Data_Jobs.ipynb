{
 "cells": [
  {
   "cell_type": "code",
   "execution_count": 31,
   "metadata": {},
   "outputs": [],
   "source": [
    "import pandas as pd\n",
    "import numpy as np\n",
    "import matplotlib.pyplot as plt\n",
    "import scipy.stats as st"
   ]
  },
  {
   "cell_type": "code",
   "execution_count": 32,
   "metadata": {},
   "outputs": [],
   "source": [
    "#import the data\n",
    "data_jobs = pd.read_excel(\"DataJobs.xlsx\")"
   ]
  },
  {
   "cell_type": "code",
   "execution_count": 33,
   "metadata": {},
   "outputs": [
    {
     "data": {
      "text/html": [
       "<div>\n",
       "<style scoped>\n",
       "    .dataframe tbody tr th:only-of-type {\n",
       "        vertical-align: middle;\n",
       "    }\n",
       "\n",
       "    .dataframe tbody tr th {\n",
       "        vertical-align: top;\n",
       "    }\n",
       "\n",
       "    .dataframe thead th {\n",
       "        text-align: right;\n",
       "    }\n",
       "</style>\n",
       "<table border=\"1\" class=\"dataframe\">\n",
       "  <thead>\n",
       "    <tr style=\"text-align: right;\">\n",
       "      <th></th>\n",
       "      <th>Survey Year</th>\n",
       "      <th>Timestamp</th>\n",
       "      <th>SalaryUSD</th>\n",
       "      <th>Country</th>\n",
       "      <th>PostalCode</th>\n",
       "      <th>PrimaryDatabase</th>\n",
       "      <th>YearsWithThisDatabase</th>\n",
       "      <th>OtherDatabases</th>\n",
       "      <th>EmploymentStatus</th>\n",
       "      <th>JobTitle</th>\n",
       "      <th>...</th>\n",
       "      <th>NewestVersionInProduction</th>\n",
       "      <th>OldestVersionInProduction</th>\n",
       "      <th>PopulationOfLargestCityWithin20Miles</th>\n",
       "      <th>EmploymentSector</th>\n",
       "      <th>LookingForAnotherJob</th>\n",
       "      <th>CareerPlansThisYear</th>\n",
       "      <th>Gender</th>\n",
       "      <th>OtherJobDuties</th>\n",
       "      <th>KindsOfTasksPerformed</th>\n",
       "      <th>Counter</th>\n",
       "    </tr>\n",
       "  </thead>\n",
       "  <tbody>\n",
       "    <tr>\n",
       "      <th>0</th>\n",
       "      <td>2023</td>\n",
       "      <td>2022-11-22 05:28:48.096</td>\n",
       "      <td>190000.0</td>\n",
       "      <td>United States</td>\n",
       "      <td>NaN</td>\n",
       "      <td>Microsoft SQL Server</td>\n",
       "      <td>20</td>\n",
       "      <td>MySQL/MariaDB, SQLite</td>\n",
       "      <td>Independent consultant, contractor, freelancer...</td>\n",
       "      <td>Developer: App code (C#, JS, etc)</td>\n",
       "      <td>...</td>\n",
       "      <td>Not Asked</td>\n",
       "      <td>Not Asked</td>\n",
       "      <td>300K-1M (large city)</td>\n",
       "      <td>Private business</td>\n",
       "      <td>Not Asked</td>\n",
       "      <td>Prefer not to say</td>\n",
       "      <td>Male</td>\n",
       "      <td>Not Asked</td>\n",
       "      <td>Not Asked</td>\n",
       "      <td>1</td>\n",
       "    </tr>\n",
       "    <tr>\n",
       "      <th>1</th>\n",
       "      <td>2023</td>\n",
       "      <td>2022-11-22 05:33:28.389</td>\n",
       "      <td>100000.0</td>\n",
       "      <td>Canada</td>\n",
       "      <td>NaN</td>\n",
       "      <td>Microsoft SQL Server</td>\n",
       "      <td>0</td>\n",
       "      <td>NaN</td>\n",
       "      <td>Full time employee</td>\n",
       "      <td>DBA (General - splits time evenly between writ...</td>\n",
       "      <td>...</td>\n",
       "      <td>Not Asked</td>\n",
       "      <td>Not Asked</td>\n",
       "      <td>1M+ (metropolis)</td>\n",
       "      <td>Private business</td>\n",
       "      <td>Not Asked</td>\n",
       "      <td>Stay with the same employer, same role</td>\n",
       "      <td>Male</td>\n",
       "      <td>Not Asked</td>\n",
       "      <td>Not Asked</td>\n",
       "      <td>1</td>\n",
       "    </tr>\n",
       "    <tr>\n",
       "      <th>2</th>\n",
       "      <td>2023</td>\n",
       "      <td>2022-11-22 05:33:41.931</td>\n",
       "      <td>135000.0</td>\n",
       "      <td>United States</td>\n",
       "      <td>33764</td>\n",
       "      <td>Microsoft SQL Server</td>\n",
       "      <td>6</td>\n",
       "      <td>Azure SQL DB (any flavor)</td>\n",
       "      <td>Full time employee</td>\n",
       "      <td>Architect</td>\n",
       "      <td>...</td>\n",
       "      <td>Not Asked</td>\n",
       "      <td>Not Asked</td>\n",
       "      <td>1M+ (metropolis)</td>\n",
       "      <td>Private business</td>\n",
       "      <td>Not Asked</td>\n",
       "      <td>Stay with the same role, but change employers</td>\n",
       "      <td>Male</td>\n",
       "      <td>Not Asked</td>\n",
       "      <td>Not Asked</td>\n",
       "      <td>1</td>\n",
       "    </tr>\n",
       "    <tr>\n",
       "      <th>3</th>\n",
       "      <td>2023</td>\n",
       "      <td>2022-11-22 05:39:33.345</td>\n",
       "      <td>30000.0</td>\n",
       "      <td>Poland</td>\n",
       "      <td>05-800</td>\n",
       "      <td>Microsoft SQL Server</td>\n",
       "      <td>5</td>\n",
       "      <td>NaN</td>\n",
       "      <td>Full time employee</td>\n",
       "      <td>DBA (Development Focus - tunes queries, indexe...</td>\n",
       "      <td>...</td>\n",
       "      <td>Not Asked</td>\n",
       "      <td>Not Asked</td>\n",
       "      <td>1M+ (metropolis)</td>\n",
       "      <td>Private business</td>\n",
       "      <td>Not Asked</td>\n",
       "      <td>Stay with the same role, but change employers</td>\n",
       "      <td>Male</td>\n",
       "      <td>Not Asked</td>\n",
       "      <td>Not Asked</td>\n",
       "      <td>1</td>\n",
       "    </tr>\n",
       "    <tr>\n",
       "      <th>4</th>\n",
       "      <td>2023</td>\n",
       "      <td>2022-11-22 05:43:51.939</td>\n",
       "      <td>70000.0</td>\n",
       "      <td>United States</td>\n",
       "      <td>72335</td>\n",
       "      <td>Microsoft SQL Server</td>\n",
       "      <td>3</td>\n",
       "      <td>NaN</td>\n",
       "      <td>Full time employee</td>\n",
       "      <td>Developer: T-SQL</td>\n",
       "      <td>...</td>\n",
       "      <td>Not Asked</td>\n",
       "      <td>Not Asked</td>\n",
       "      <td>1M+ (metropolis)</td>\n",
       "      <td>Education (K-12, college, university)</td>\n",
       "      <td>Not Asked</td>\n",
       "      <td>Prefer not to say</td>\n",
       "      <td>Male</td>\n",
       "      <td>Not Asked</td>\n",
       "      <td>Not Asked</td>\n",
       "      <td>1</td>\n",
       "    </tr>\n",
       "  </tbody>\n",
       "</table>\n",
       "<p>5 rows × 31 columns</p>\n",
       "</div>"
      ],
      "text/plain": [
       "   Survey Year               Timestamp  SalaryUSD        Country PostalCode   \n",
       "0         2023 2022-11-22 05:28:48.096   190000.0  United States        NaN  \\\n",
       "1         2023 2022-11-22 05:33:28.389   100000.0         Canada        NaN   \n",
       "2         2023 2022-11-22 05:33:41.931   135000.0  United States      33764   \n",
       "3         2023 2022-11-22 05:39:33.345    30000.0         Poland     05-800   \n",
       "4         2023 2022-11-22 05:43:51.939    70000.0  United States      72335   \n",
       "\n",
       "        PrimaryDatabase  YearsWithThisDatabase             OtherDatabases   \n",
       "0  Microsoft SQL Server                     20      MySQL/MariaDB, SQLite  \\\n",
       "1  Microsoft SQL Server                      0                        NaN   \n",
       "2  Microsoft SQL Server                      6  Azure SQL DB (any flavor)   \n",
       "3  Microsoft SQL Server                      5                        NaN   \n",
       "4  Microsoft SQL Server                      3                        NaN   \n",
       "\n",
       "                                    EmploymentStatus   \n",
       "0  Independent consultant, contractor, freelancer...  \\\n",
       "1                                 Full time employee   \n",
       "2                                 Full time employee   \n",
       "3                                 Full time employee   \n",
       "4                                 Full time employee   \n",
       "\n",
       "                                            JobTitle  ...   \n",
       "0                  Developer: App code (C#, JS, etc)  ...  \\\n",
       "1  DBA (General - splits time evenly between writ...  ...   \n",
       "2                                          Architect  ...   \n",
       "3  DBA (Development Focus - tunes queries, indexe...  ...   \n",
       "4                                   Developer: T-SQL  ...   \n",
       "\n",
       "  NewestVersionInProduction  OldestVersionInProduction   \n",
       "0                 Not Asked                  Not Asked  \\\n",
       "1                 Not Asked                  Not Asked   \n",
       "2                 Not Asked                  Not Asked   \n",
       "3                 Not Asked                  Not Asked   \n",
       "4                 Not Asked                  Not Asked   \n",
       "\n",
       "  PopulationOfLargestCityWithin20Miles                       EmploymentSector   \n",
       "0                 300K-1M (large city)                       Private business  \\\n",
       "1                     1M+ (metropolis)                       Private business   \n",
       "2                     1M+ (metropolis)                       Private business   \n",
       "3                     1M+ (metropolis)                       Private business   \n",
       "4                     1M+ (metropolis)  Education (K-12, college, university)   \n",
       "\n",
       "  LookingForAnotherJob                            CareerPlansThisYear Gender   \n",
       "0            Not Asked                              Prefer not to say   Male  \\\n",
       "1            Not Asked         Stay with the same employer, same role   Male   \n",
       "2            Not Asked  Stay with the same role, but change employers   Male   \n",
       "3            Not Asked  Stay with the same role, but change employers   Male   \n",
       "4            Not Asked                              Prefer not to say   Male   \n",
       "\n",
       "  OtherJobDuties KindsOfTasksPerformed Counter  \n",
       "0      Not Asked             Not Asked       1  \n",
       "1      Not Asked             Not Asked       1  \n",
       "2      Not Asked             Not Asked       1  \n",
       "3      Not Asked             Not Asked       1  \n",
       "4      Not Asked             Not Asked       1  \n",
       "\n",
       "[5 rows x 31 columns]"
      ]
     },
     "execution_count": 33,
     "metadata": {},
     "output_type": "execute_result"
    }
   ],
   "source": [
    "#Visualize the data\n",
    "data_jobs.head()"
   ]
  },
  {
   "cell_type": "code",
   "execution_count": 34,
   "metadata": {},
   "outputs": [],
   "source": [
    "# Remove unwanted columns\n",
    "data_jobs.drop(['PostalCode','Timestamp','OtherDatabases','OtherPeopleOnYourTeam','Certifications','NewestVersionInProduction','OldestVersionInProduction','LookingForAnotherJob','Counter' ],inplace=True, axis=1)\n"
   ]
  },
  {
   "cell_type": "code",
   "execution_count": 35,
   "metadata": {},
   "outputs": [],
   "source": [
    "#Clean data\n",
    "data_jobs = data_jobs[data_jobs[\"SalaryUSD\"]>4999] #Delete Salaries below 5000 dollars yearly\n",
    "#Clean the values 1\n",
    "data_jobs[\"HowManyCompanies\"] = data_jobs[\"HowManyCompanies\"].apply(lambda x: x.replace(\" (this is the only company where I've had this kind of position)\",\"\") if x == \"1 (this is the only company where I've had this kind of position)\" else x ) \n",
    "#Clean the values 2\n",
    "data_jobs[\"HowManyCompanies\"] = data_jobs[\"HowManyCompanies\"].apply(lambda x: x.replace(\" (I worked at another similar position elsewhere before this one)\",\"\") if x == \"2 (I worked at another similar position elsewhere before this one)\" else x )\n"
   ]
  },
  {
   "cell_type": "code",
   "execution_count": 36,
   "metadata": {},
   "outputs": [
    {
     "name": "stdout",
     "output_type": "stream",
     "text": [
      "(12126, 22)\n"
     ]
    }
   ],
   "source": [
    "print(data_jobs.shape)\n",
    "data_jobs.head()\n",
    "data_jobs.to_excel(\"data_jobs.xlsx\")"
   ]
  },
  {
   "attachments": {},
   "cell_type": "markdown",
   "metadata": {},
   "source": [
    "# Hypothesis 1"
   ]
  },
  {
   "cell_type": "code",
   "execution_count": 37,
   "metadata": {},
   "outputs": [],
   "source": [
    "#Hypothesis\n",
    "# a = mu_Salaries(People that changed jobs <=3 times) \n",
    "# b = mu_Salaries(People that changed jobs > 3 times)\n",
    "\n",
    "# H0: b <= a\n",
    "# H1: b > a"
   ]
  },
  {
   "cell_type": "code",
   "execution_count": 38,
   "metadata": {},
   "outputs": [],
   "source": [
    "#Significance\n",
    "alpha = 0.05"
   ]
  },
  {
   "cell_type": "code",
   "execution_count": 39,
   "metadata": {},
   "outputs": [],
   "source": [
    "#Filter the sample to not consider the ones that was not asked\n",
    "sample = data_jobs[[\"SalaryUSD\",\"HowManyCompanies\"]]\n",
    "sample = sample[sample[\"HowManyCompanies\"] != \"Not Asked\"]\n",
    "#Grouping the 1 to 3 years and the rest in two values\n",
    "sample[\"HowManyCompanies\"] = sample[\"HowManyCompanies\"].apply(lambda x: \"Less or equal to 3\" if x in [\"1\",\"2\",\"3\"] else \"More than 3\" )\n",
    "# Dividing the salaries in to variables\n",
    "a = sample[sample[\"HowManyCompanies\"] == \"Less or equal to 3\" ][\"SalaryUSD\"]\n",
    "b = sample[sample[\"HowManyCompanies\"] == \"More than 3\" ][\"SalaryUSD\"]\n"
   ]
  },
  {
   "cell_type": "code",
   "execution_count": 40,
   "metadata": {},
   "outputs": [],
   "source": [
    "#calculating the p-value\n",
    "p_value = st.ttest_ind(b,a, equal_var = False, alternative = \"greater\")[1]"
   ]
  },
  {
   "cell_type": "code",
   "execution_count": 41,
   "metadata": {},
   "outputs": [
    {
     "name": "stdout",
     "output_type": "stream",
     "text": [
      "We can reject the null hypothesis\n"
     ]
    }
   ],
   "source": [
    "# Confirm that the hypothesis was rejected or not\n",
    "if p_value < alpha:\n",
    "    print(\"We can reject the null hypothesis\")\n",
    "else:\n",
    "    print(\"We can not reject the null\")"
   ]
  },
  {
   "attachments": {},
   "cell_type": "markdown",
   "metadata": {},
   "source": [
    "# Hypothesis 2\n"
   ]
  },
  {
   "cell_type": "code",
   "execution_count": 42,
   "metadata": {},
   "outputs": [],
   "source": [
    "#Hypothesis\n",
    "#H0 : Being Manager is independent of gender\n",
    "\n",
    "#H1 : Being Manager is dependent of gender\n",
    "\n",
    "\n"
   ]
  },
  {
   "cell_type": "code",
   "execution_count": 43,
   "metadata": {},
   "outputs": [],
   "source": [
    "#Significance\n",
    "alpha = 0.05"
   ]
  },
  {
   "cell_type": "code",
   "execution_count": 44,
   "metadata": {},
   "outputs": [],
   "source": [
    "#Filtering dataset to only gender and manager column and take the not asked \n",
    "sample2 = data_jobs[[\"ManageStaff\",\"Gender\"]]\n",
    "sample2 = sample2[sample2[\"Gender\"] != \"Not Asked\"]"
   ]
  },
  {
   "cell_type": "code",
   "execution_count": 45,
   "metadata": {},
   "outputs": [],
   "source": [
    "#Group by the manage staff and gender and count the number of people\n",
    "sample2 = sample2.groupby([\"ManageStaff\",\"Gender\"]).agg({\"ManageStaff\":\"count\"})\n",
    "sample2.rename(columns = {'ManageStaff':'count'}, inplace = True)"
   ]
  },
  {
   "cell_type": "code",
   "execution_count": 46,
   "metadata": {},
   "outputs": [],
   "source": [
    "#Pivot the groupby dataframe to pass the gender to columns\n",
    "sample2 = sample2.reset_index().pivot(index='ManageStaff', columns='Gender', values='count')\n"
   ]
  },
  {
   "cell_type": "code",
   "execution_count": 47,
   "metadata": {},
   "outputs": [
    {
     "data": {
      "text/html": [
       "<div>\n",
       "<style scoped>\n",
       "    .dataframe tbody tr th:only-of-type {\n",
       "        vertical-align: middle;\n",
       "    }\n",
       "\n",
       "    .dataframe tbody tr th {\n",
       "        vertical-align: top;\n",
       "    }\n",
       "\n",
       "    .dataframe thead th {\n",
       "        text-align: right;\n",
       "    }\n",
       "</style>\n",
       "<table border=\"1\" class=\"dataframe\">\n",
       "  <thead>\n",
       "    <tr style=\"text-align: right;\">\n",
       "      <th>Gender</th>\n",
       "      <th>ManageStaff</th>\n",
       "      <th>Female</th>\n",
       "      <th>Male</th>\n",
       "      <th>Non-binary/third gender</th>\n",
       "      <th>Prefer not to say</th>\n",
       "    </tr>\n",
       "  </thead>\n",
       "  <tbody>\n",
       "    <tr>\n",
       "      <th>0</th>\n",
       "      <td>No</td>\n",
       "      <td>715</td>\n",
       "      <td>6252</td>\n",
       "      <td>27</td>\n",
       "      <td>106</td>\n",
       "    </tr>\n",
       "    <tr>\n",
       "      <th>1</th>\n",
       "      <td>Yes</td>\n",
       "      <td>168</td>\n",
       "      <td>1933</td>\n",
       "      <td>8</td>\n",
       "      <td>32</td>\n",
       "    </tr>\n",
       "  </tbody>\n",
       "</table>\n",
       "</div>"
      ],
      "text/plain": [
       "Gender ManageStaff  Female  Male  Non-binary/third gender  Prefer not to say\n",
       "0               No     715  6252                       27                106\n",
       "1              Yes     168  1933                        8                 32"
      ]
     },
     "execution_count": 47,
     "metadata": {},
     "output_type": "execute_result"
    }
   ],
   "source": [
    "sample2 = sample2.reset_index()\n",
    "sample2"
   ]
  },
  {
   "cell_type": "code",
   "execution_count": 48,
   "metadata": {},
   "outputs": [
    {
     "data": {
      "text/plain": [
       "array([[ 715, 6252,   27],\n",
       "       [ 168, 1933,    8]], dtype=int64)"
      ]
     },
     "execution_count": 48,
     "metadata": {},
     "output_type": "execute_result"
    }
   ],
   "source": [
    "#Turning the dataframe to an array\n",
    "managers =np.array(sample2.iloc[0:, 1:4])\n",
    "managers"
   ]
  },
  {
   "cell_type": "code",
   "execution_count": 49,
   "metadata": {},
   "outputs": [],
   "source": [
    "p_value = st.chi2_contingency(managers)[1]"
   ]
  },
  {
   "cell_type": "code",
   "execution_count": 50,
   "metadata": {},
   "outputs": [
    {
     "name": "stdout",
     "output_type": "stream",
     "text": [
      "We can reject the null hypothesis\n"
     ]
    }
   ],
   "source": [
    "# Confirm that the hypothesis was rejected or not\n",
    "if p_value < alpha:\n",
    "    print(\"We can reject the null hypothesis\")\n",
    "else:\n",
    "    print(\"We can not reject the null\")"
   ]
  },
  {
   "attachments": {},
   "cell_type": "markdown",
   "metadata": {},
   "source": [
    "# Hypothesis 3\n"
   ]
  },
  {
   "cell_type": "code",
   "execution_count": 51,
   "metadata": {},
   "outputs": [],
   "source": [
    "#Hypothesis\n",
    "#H0 : People that live in big cities work less hours\n",
    "\n",
    "#H1 : People that live in big cities work more hours"
   ]
  },
  {
   "cell_type": "code",
   "execution_count": 52,
   "metadata": {},
   "outputs": [
    {
     "data": {
      "text/plain": [
       "PopulationOfLargestCityWithin20Miles\n",
       "1M+ (metropolis)        326\n",
       "300K-1M (large city)    283\n",
       "100K-299K (city)        162\n",
       "20K-99K (large town)     82\n",
       "<= 20,000 (town)         21\n",
       "Name: count, dtype: int64"
      ]
     },
     "execution_count": 52,
     "metadata": {},
     "output_type": "execute_result"
    }
   ],
   "source": [
    "sample3 = data_jobs[[\"HoursWorkedPerWeek\",\"PopulationOfLargestCityWithin20Miles\"]]\n",
    "sample3 = sample3[sample3[\"PopulationOfLargestCityWithin20Miles\"] != \"Not Asked\"]\n",
    "sample3 = sample3[sample3[\"HoursWorkedPerWeek\"] != \"Not Asked\"]\n",
    "sample3[\"PopulationOfLargestCityWithin20Miles\"].value_counts()"
   ]
  },
  {
   "cell_type": "code",
   "execution_count": 53,
   "metadata": {},
   "outputs": [],
   "source": [
    "#Divide the hours worked by cities\n",
    "large_city = []\n",
    "metropolis = []\n",
    "city = []\n",
    "large_town = []\n",
    "town = []\n",
    "for item1,item2 in zip(sample3[\"HoursWorkedPerWeek\"],sample3[\"PopulationOfLargestCityWithin20Miles\"]):\n",
    "    if item2 == \"300K-1M (large city)\":\n",
    "        large_city.append(item1)\n",
    "    elif item2 == \"1M+ (metropolis)\":\n",
    "        metropolis.append(item1)\n",
    "    elif item2 == \"100K-299K (city)\":\n",
    "        city.append(item1)\n",
    "    elif item2 == \"20K-99K (large town)\":\n",
    "        large_town.append(item1)\n",
    "    else:\n",
    "        town.append(item1)"
   ]
  },
  {
   "cell_type": "code",
   "execution_count": 54,
   "metadata": {},
   "outputs": [],
   "source": [
    "#H0: mu_large_city = mu_metropolis = mu_city  = mu_large_town = mu_town\n",
    "# H1 ~(mu_large_city = mu_metropolis = mu_city  = mu_large_town = mu_town)\n",
    "\n",
    "alpha = 0.05\n",
    "\n",
    "p_value = st.f_oneway(large_city,metropolis,city,large_town,town)[1]"
   ]
  },
  {
   "cell_type": "code",
   "execution_count": 55,
   "metadata": {},
   "outputs": [
    {
     "name": "stdout",
     "output_type": "stream",
     "text": [
      "We can reject the null hypothesis\n"
     ]
    }
   ],
   "source": [
    "# Confirm that the hypothesis was rejected or not\n",
    "if p_value < alpha:\n",
    "    print(\"We can reject the null hypothesis\")\n",
    "else:\n",
    "    print(\"We can not reject the null\")"
   ]
  },
  {
   "cell_type": "code",
   "execution_count": 61,
   "metadata": {},
   "outputs": [
    {
     "name": "stdout",
     "output_type": "stream",
     "text": [
      "42.41696113074205\n",
      "44.14110429447853\n",
      "41.98765432098765\n",
      "42.951219512195124\n",
      "44.142857142857146\n"
     ]
    }
   ],
   "source": [
    "print(np.array(large_city).mean())\n",
    "print(np.array(metropolis).mean())\n",
    "print(np.array(city).mean())\n",
    "print(np.array(large_town).mean())\n",
    "print(np.array(town).mean())"
   ]
  },
  {
   "cell_type": "code",
   "execution_count": 66,
   "metadata": {},
   "outputs": [
    {
     "data": {
      "text/html": [
       "<div>\n",
       "<style scoped>\n",
       "    .dataframe tbody tr th:only-of-type {\n",
       "        vertical-align: middle;\n",
       "    }\n",
       "\n",
       "    .dataframe tbody tr th {\n",
       "        vertical-align: top;\n",
       "    }\n",
       "\n",
       "    .dataframe thead th {\n",
       "        text-align: right;\n",
       "    }\n",
       "</style>\n",
       "<table border=\"1\" class=\"dataframe\">\n",
       "  <thead>\n",
       "    <tr style=\"text-align: right;\">\n",
       "      <th></th>\n",
       "      <th>SalaryUSD</th>\n",
       "      <th>HoursWorkedPerWeek</th>\n",
       "    </tr>\n",
       "  </thead>\n",
       "  <tbody>\n",
       "    <tr>\n",
       "      <th>5333</th>\n",
       "      <td>128500.0</td>\n",
       "      <td>40</td>\n",
       "    </tr>\n",
       "    <tr>\n",
       "      <th>5334</th>\n",
       "      <td>52922.0</td>\n",
       "      <td>38</td>\n",
       "    </tr>\n",
       "    <tr>\n",
       "      <th>5335</th>\n",
       "      <td>110000.0</td>\n",
       "      <td>44</td>\n",
       "    </tr>\n",
       "    <tr>\n",
       "      <th>5336</th>\n",
       "      <td>73000.0</td>\n",
       "      <td>40</td>\n",
       "    </tr>\n",
       "    <tr>\n",
       "      <th>5337</th>\n",
       "      <td>65000.0</td>\n",
       "      <td>45</td>\n",
       "    </tr>\n",
       "    <tr>\n",
       "      <th>5338</th>\n",
       "      <td>70000.0</td>\n",
       "      <td>38</td>\n",
       "    </tr>\n",
       "    <tr>\n",
       "      <th>5339</th>\n",
       "      <td>116500.0</td>\n",
       "      <td>30</td>\n",
       "    </tr>\n",
       "    <tr>\n",
       "      <th>5340</th>\n",
       "      <td>67000.0</td>\n",
       "      <td>37</td>\n",
       "    </tr>\n",
       "    <tr>\n",
       "      <th>5341</th>\n",
       "      <td>124000.0</td>\n",
       "      <td>40</td>\n",
       "    </tr>\n",
       "    <tr>\n",
       "      <th>5342</th>\n",
       "      <td>33172.0</td>\n",
       "      <td>40</td>\n",
       "    </tr>\n",
       "  </tbody>\n",
       "</table>\n",
       "</div>"
      ],
      "text/plain": [
       "      SalaryUSD HoursWorkedPerWeek\n",
       "5333   128500.0                 40\n",
       "5334    52922.0                 38\n",
       "5335   110000.0                 44\n",
       "5336    73000.0                 40\n",
       "5337    65000.0                 45\n",
       "5338    70000.0                 38\n",
       "5339   116500.0                 30\n",
       "5340    67000.0                 37\n",
       "5341   124000.0                 40\n",
       "5342    33172.0                 40"
      ]
     },
     "execution_count": 66,
     "metadata": {},
     "output_type": "execute_result"
    }
   ],
   "source": [
    "# Correlation beetween hoursworked and salary\n",
    "sample4 = data_jobs[[\"SalaryUSD\",\"HoursWorkedPerWeek\"]]\n",
    "sample4 = sample4[sample4[\"HoursWorkedPerWeek\"] != \"Not Asked\"]\n",
    "sample4.head(10)"
   ]
  },
  {
   "cell_type": "code",
   "execution_count": 68,
   "metadata": {},
   "outputs": [
    {
     "data": {
      "text/html": [
       "<div>\n",
       "<style scoped>\n",
       "    .dataframe tbody tr th:only-of-type {\n",
       "        vertical-align: middle;\n",
       "    }\n",
       "\n",
       "    .dataframe tbody tr th {\n",
       "        vertical-align: top;\n",
       "    }\n",
       "\n",
       "    .dataframe thead th {\n",
       "        text-align: right;\n",
       "    }\n",
       "</style>\n",
       "<table border=\"1\" class=\"dataframe\">\n",
       "  <thead>\n",
       "    <tr style=\"text-align: right;\">\n",
       "      <th></th>\n",
       "      <th>SalaryUSD</th>\n",
       "      <th>HoursWorkedPerWeek</th>\n",
       "    </tr>\n",
       "  </thead>\n",
       "  <tbody>\n",
       "    <tr>\n",
       "      <th>SalaryUSD</th>\n",
       "      <td>1.000000</td>\n",
       "      <td>0.161249</td>\n",
       "    </tr>\n",
       "    <tr>\n",
       "      <th>HoursWorkedPerWeek</th>\n",
       "      <td>0.161249</td>\n",
       "      <td>1.000000</td>\n",
       "    </tr>\n",
       "  </tbody>\n",
       "</table>\n",
       "</div>"
      ],
      "text/plain": [
       "                    SalaryUSD  HoursWorkedPerWeek\n",
       "SalaryUSD            1.000000            0.161249\n",
       "HoursWorkedPerWeek   0.161249            1.000000"
      ]
     },
     "execution_count": 68,
     "metadata": {},
     "output_type": "execute_result"
    }
   ],
   "source": [
    "sample4.corr()"
   ]
  },
  {
   "cell_type": "code",
   "execution_count": 70,
   "metadata": {},
   "outputs": [
    {
     "data": {
      "text/plain": [
       "<function matplotlib.pyplot.show(close=None, block=None)>"
      ]
     },
     "execution_count": 70,
     "metadata": {},
     "output_type": "execute_result"
    },
    {
     "data": {
      "image/png": "[encoded data removed]",
      "text/plain": [
       "<Figure size 640x480 with 1 Axes>"
      ]
     },
     "metadata": {},
     "output_type": "display_data"
    }
   ],
   "source": [
    "x = sample4[[\"SalaryUSD\"]]\n",
    "\n",
    "y = sample4[\"HoursWorkedPerWeek\"]\n",
    "\n",
    "plt.scatter(x,y)\n",
    "plt.show"
   ]
  },
  {
   "cell_type": "code",
   "execution_count": 71,
   "metadata": {},
   "outputs": [],
   "source": [
    "from sklearn import linear_model \n",
    "\n",
    "# we first initialize our model \n",
    "\n",
    "\n",
    "model = linear_model.LinearRegression()\n",
    "\n",
    "# now, we must fit (aka train) the model in our data\n",
    "\n",
    "result = model.fit(x,y)"
   ]
  },
  {
   "cell_type": "code",
   "execution_count": 74,
   "metadata": {},
   "outputs": [
    {
     "data": {
      "text/plain": [
       "<function matplotlib.pyplot.show(close=None, block=None)>"
      ]
     },
     "execution_count": 74,
     "metadata": {},
     "output_type": "execute_result"
    },
    {
     "data": {
      "image/png": "[encoded data removed]",
      "text/plain": [
       "<Figure size 640x480 with 1 Axes>"
      ]
     },
     "metadata": {},
     "output_type": "display_data"
    }
   ],
   "source": [
    "regression_line = result.intercept_ + result.coef_[0]*x\n",
    "\n",
    "plt.plot(x, regression_line, color = \"orange\")\n",
    "plt.scatter(x,y)\n",
    "plt.xlabel(\"Salary\")\n",
    "plt.ylabel(\"Hours Worked\")\n",
    "plt.title(\"Correlation beetween hours worked and salary\")\n",
    "plt.show"
   ]
  }
 ],
 "metadata": {
  "kernelspec": {
   "display_name": "Python 3",
   "language": "python",
   "name": "python3"
  },
  "language_info": {
   "codemirror_mode": {
    "name": "ipython",
    "version": 3
   },
   "file_extension": ".py",
   "mimetype": "text/x-python",
   "name": "python",
   "nbconvert_exporter": "python",
   "pygments_lexer": "ipython3",
   "version": "3.11.2"
  },
  "orig_nbformat": 4
 },
 "nbformat": 4,
 "nbformat_minor": 2
}
